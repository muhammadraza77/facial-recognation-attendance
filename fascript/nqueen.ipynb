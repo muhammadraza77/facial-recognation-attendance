{
 "cells": [
  {
   "cell_type": "code",
   "execution_count": 1,
   "metadata": {},
   "outputs": [],
   "source": [
    "from array import * \n",
    "import random as rand\n",
    "import numpy as np\n",
    "import socket as a\n",
    "n=10\n",
    "\n"
   ]
  },
  {
   "cell_type": "code",
   "execution_count": 4,
   "metadata": {},
   "outputs": [
    {
     "name": "stdout",
     "output_type": "stream",
     "text": [
      "completed ans\n",
      "1 0 0 0 0 0 0 0 0 0  \n",
      "0 0 1 0 0 0 0 0 0 0  \n",
      "0 0 0 0 0 1 0 0 0 0  \n",
      "0 0 0 0 0 0 0 1 0 0  \n",
      "0 0 0 0 0 0 0 0 0 1  \n",
      "0 0 0 0 1 0 0 0 0 0  \n",
      "0 0 0 0 0 0 0 0 1 0  \n",
      "0 1 0 0 0 0 0 0 0 0  \n",
      "0 0 0 1 0 0 0 0 0 0  \n",
      "0 0 0 0 0 0 1 0 0 0  \n"
     ]
    },
    {
     "data": {
      "text/plain": [
       "array([[ 1, -1, -1, -1, -1, -1, -1, -1, -1, -1],\n",
       "       [-1, -1,  1, -2, -2, -2, -2, -2, -2, -2],\n",
       "       [-1, -2, -1, -2, -3,  1, -3, -3, -3, -3],\n",
       "       [-1, -4, -2, -1, -2, -3, -3,  1, -4, -4],\n",
       "       [-1, -5, -2, -3, -1, -2, -4, -3, -4,  1],\n",
       "       [-1, -6, -2, -6,  1, -1, -2, -4, -3, -4],\n",
       "       [-1, -3, -2, -6, -4, -3, -1, -2,  1, -3],\n",
       "       [-1,  1, -2, -4, -6, -3, -5, -1, -2, -5],\n",
       "       [-1, -6, -2,  1, -6, -3, -7, -4, -1, -2],\n",
       "       [-1, -4, -2, -8, -5, -3,  1, -4, -6, -1]])"
      ]
     },
     "execution_count": 4,
     "metadata": {},
     "output_type": "execute_result"
    }
   ],
   "source": [
    "matrix = np.zeros(n*n,int).reshape([n,n])\n",
    "\n",
    "def init(intin,col):\n",
    "    index= rand.randint(intin,n-1)\n",
    "    if(intin!=0):index=col\n",
    "    if matrix[intin,index]==0:\n",
    "        dx=intin\n",
    "        dy=index\n",
    "        d1x=intin\n",
    "        d1y=index\n",
    "#         print (index)\n",
    "        for x in range(n):\n",
    "            for y in range(n):\n",
    "                if x==intin and matrix[x,y]==0:\n",
    "                    matrix[intin,y]=-1*(intin+1)\n",
    "                if y==index and matrix[x,y]==0:\n",
    "                    matrix[x,index]=-1*(intin+1)                    \n",
    "                if x==dx and y==dy : \n",
    "                    if(matrix[x,y]==0):matrix[x,y]=-1*(intin+1)\n",
    "                    dx=dx+1\n",
    "                    dy=dy+1\n",
    "                if x==d1x and y==d1y : \n",
    "#                     matrix[x,y]=-99\n",
    "                    if(matrix[x,y]==0):matrix[x,y]=-1*(intin+1)\n",
    "                    d1x=d1x+1\n",
    "                    d1y=d1y-1\n",
    "\n",
    "        matrix[intin][index]=1\n",
    "        return 400\n",
    "    else:\n",
    "#         print(\"err\")\n",
    "        return 200\n",
    "\n",
    "def removechoice(r,c):\n",
    "    for x in range(n):\n",
    "        for y in range(n):\n",
    "            if matrix[x,y]==-1*(r+1) :matrix[x,y]=0\n",
    "                \n",
    "    matrix[r,c]=0\n",
    "    \n",
    "def printmatrix():\n",
    "    for x in range(n):\n",
    "        for y in range(n):\n",
    "            if matrix[x,y]==1 :print(\"1\",end=\" \")\n",
    "            else: print(\"0\",end=\" \")\n",
    "                \n",
    "        print(\" \")\n",
    "    \n",
    "    \n",
    "    \n",
    "\n",
    "def foo(row):\n",
    "    if row==n:\n",
    "        print(\"completed ans\")\n",
    "        return 200\n",
    "    elif row!=n:\n",
    "        for x in range(n):\n",
    "            isok=init(row,x)\n",
    "            if isok==400:\n",
    "#                 print(row,\"aaa\\n\",matrix)\n",
    "                code=foo(row+1)\n",
    "                if(code==300):\n",
    "                    removechoice(row,x)\n",
    "                    continue\n",
    "#                     break\n",
    "                else:\n",
    "                    break\n",
    "                \n",
    "        else:\n",
    "#             print(\"row :\",row)\n",
    "            return 300\n",
    "        \n",
    "    \n",
    "# print(init(0,1))\n",
    "# print(init(1,4))\n",
    "# print(init(2,6))\n",
    "# print(init(3,3))\n",
    "# print(init(4,0))\n",
    "# print(init(5,7))\n",
    "# print(init(6,5))\n",
    "# print(init(7,2))\n",
    "\n",
    "foo(0)\n",
    "printmatrix()\n",
    "matrix\n",
    "    "
   ]
  },
  {
   "cell_type": "code",
   "execution_count": null,
   "metadata": {},
   "outputs": [],
   "source": []
  },
  {
   "cell_type": "code",
   "execution_count": null,
   "metadata": {},
   "outputs": [],
   "source": []
  }
 ],
 "metadata": {
  "kernelspec": {
   "display_name": "Python 3",
   "language": "python",
   "name": "python3"
  },
  "language_info": {
   "codemirror_mode": {
    "name": "ipython",
    "version": 3
   },
   "file_extension": ".py",
   "mimetype": "text/x-python",
   "name": "python",
   "nbconvert_exporter": "python",
   "pygments_lexer": "ipython3",
   "version": "3.6.8"
  }
 },
 "nbformat": 4,
 "nbformat_minor": 2
}
